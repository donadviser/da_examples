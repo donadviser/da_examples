{
 "cells": [
  {
   "cell_type": "markdown",
   "id": "6512e61e",
   "metadata": {},
   "source": [
    "# Import the Libraries"
   ]
  },
  {
   "cell_type": "code",
   "execution_count": 3,
   "id": "66a60409",
   "metadata": {},
   "outputs": [],
   "source": [
    "import pandas as pd\n",
    "import numpy as np\n",
    "import matplotlib.pyplot as plt\n",
    "import seaborn as sns"
   ]
  },
  {
   "cell_type": "markdown",
   "id": "17cb2fa1",
   "metadata": {},
   "source": [
    "# Read the Data"
   ]
  },
  {
   "cell_type": "code",
   "execution_count": 129,
   "id": "4cb41021",
   "metadata": {},
   "outputs": [],
   "source": [
    "df = pd.read_csv('melbourne.csv')"
   ]
  },
  {
   "cell_type": "code",
   "execution_count": 131,
   "id": "588230f0",
   "metadata": {},
   "outputs": [
    {
     "data": {
      "text/plain": [
       "Index(['Suburb', 'Address', 'Rooms', 'Type', 'Price', 'Method', 'SellerG',\n",
       "       'Date', 'Distance', 'Postcode', 'Bedroom2', 'Bathroom', 'Car',\n",
       "       'Landsize', 'BuildingArea', 'YearBuilt', 'CouncilArea', 'Lattitude',\n",
       "       'Longtitude', 'Regionname', 'Propertycount'],\n",
       "      dtype='object')"
      ]
     },
     "execution_count": 131,
     "metadata": {},
     "output_type": "execute_result"
    }
   ],
   "source": [
    "df.columns"
   ]
  },
  {
   "cell_type": "markdown",
   "id": "fa9c7a77",
   "metadata": {},
   "source": [
    "# Data Cleaning using Pandas Chaning Method"
   ]
  },
  {
   "cell_type": "markdown",
   "id": "96e07745",
   "metadata": {},
   "source": [
    "## Inspect the Dataset"
   ]
  },
  {
   "cell_type": "code",
   "execution_count": 132,
   "id": "80a55a61",
   "metadata": {},
   "outputs": [
    {
     "name": "stdout",
     "output_type": "stream",
     "text": [
      "<class 'pandas.core.frame.DataFrame'>\n",
      "RangeIndex: 23547 entries, 0 to 23546\n",
      "Data columns (total 21 columns):\n",
      " #   Column         Non-Null Count  Dtype  \n",
      "---  ------         --------------  -----  \n",
      " 0   Suburb         23547 non-null  object \n",
      " 1   Address        23547 non-null  object \n",
      " 2   Rooms          23547 non-null  int64  \n",
      " 3   Type           23547 non-null  object \n",
      " 4   Price          18396 non-null  float64\n",
      " 5   Method         23547 non-null  object \n",
      " 6   SellerG        23547 non-null  object \n",
      " 7   Date           23547 non-null  object \n",
      " 8   Distance       23546 non-null  float64\n",
      " 9   Postcode       23546 non-null  float64\n",
      " 10  Bedroom2       19066 non-null  float64\n",
      " 11  Bathroom       19063 non-null  float64\n",
      " 12  Car            18921 non-null  float64\n",
      " 13  Landsize       17410 non-null  float64\n",
      " 14  BuildingArea   10018 non-null  float64\n",
      " 15  YearBuilt      11540 non-null  float64\n",
      " 16  CouncilArea    15656 non-null  object \n",
      " 17  Lattitude      19243 non-null  float64\n",
      " 18  Longtitude     19243 non-null  float64\n",
      " 19  Regionname     23546 non-null  object \n",
      " 20  Propertycount  23546 non-null  float64\n",
      "dtypes: float64(12), int64(1), object(8)\n",
      "memory usage: 3.8+ MB\n"
     ]
    }
   ],
   "source": [
    "(df\n",
    " ## check the first 5 rows\n",
    " #.head()\n",
    " ## renaming the column\n",
    " #.rename(columns=lambda c: c.lower().replace(\" \", \"_\"))\n",
    " ## check the dimension, shape or data type of the data\n",
    " .info() # or .shape or .dtypes\n",
    " #.assign(JOKE=lambda df_:df_.Address.str.extract(r'(\\d+\\/?\\d*)').fillna(0),\n",
    " #        OKAY=lambda df_:~df_.BuildingArea.isna()\n",
    " #       )\n",
    ")"
   ]
  },
  {
   "cell_type": "markdown",
   "id": "77368163",
   "metadata": {},
   "source": [
    "## Missing Values"
   ]
  },
  {
   "cell_type": "code",
   "execution_count": 159,
   "id": "b0945325",
   "metadata": {},
   "outputs": [],
   "source": [
    "def remove_nth_highest_missing_value(df_, nth_missing):\n",
    "    col = df_.isnull().sum().sort_values(ascending=False).head(nth_missing).index.values\n",
    "    print(col)\n",
    "    if len(col) > 0:\n",
    "        return df_.drop(columns=col)\n",
    "    else:\n",
    "        return df_\n",
    "    \n",
    "def remove_rows_nth_nan(df_, nth_nan):\n",
    "    return df_[df_.isnull().sum(axis=1)>nth_nan]"
   ]
  },
  {
   "cell_type": "code",
   "execution_count": 217,
   "id": "9191724c",
   "metadata": {},
   "outputs": [
    {
     "data": {
      "text/plain": [
       "Car\n",
       "2.0     8088\n",
       "1.0     7513\n",
       "0.0     1385\n",
       "3.0     1045\n",
       "4.0      693\n",
       "5.0       87\n",
       "6.0       79\n",
       "8.0       14\n",
       "7.0       11\n",
       "10.0       3\n",
       "9.0        1\n",
       "11.0       1\n",
       "26.0       1\n",
       "Name: Car, dtype: int64"
      ]
     },
     "execution_count": 217,
     "metadata": {},
     "output_type": "execute_result"
    }
   ],
   "source": [
    "(df\n",
    " ## check the first 5 rows\n",
    " #.head()\n",
    " ## check the dimension, shape or data type of the data\n",
    " #.info() # or .shape or .dtypes\n",
    " ## Finding total missing values (column-wise) in descending order\n",
    " #.isnull().sum().sort_values(ascending=False)\n",
    " ## Find Total missing values (Row-wise) in descending order\n",
    " #.isnull().sum(axis=1).sort_values(ascending=False)\n",
    " ## Columns containing atleast one missing value\n",
    " #.isnull().sum() > 0 # or use any(). Note: any() operates on columns by default\n",
    " #.isnull().any() # .index or .index(df.values) = index where True was returned\n",
    " ## Displaying rows that contain atleast one missing value\n",
    " #.isnull().any(axis=1)\n",
    " #.iloc[lambda df_:df_.isnull().any(axis=1).values,:] #Here .loc works with .index not .values\n",
    " ## Displaying rows with missing value\n",
    " #.isnull().any(axis=1)\n",
    " ## Columns having all missing values\n",
    " #.isnull().all(axis=0)\n",
    " ## Rows having all missing values\n",
    " #.isnull().all(axis=1).sum()\n",
    " #.isnull().sum(axis=1)==int(len(df))\n",
    " ## Percentage of missing values (Column-wise)\n",
    " #.apply(lambda df_: round(df_.isnull().sum(axis=0)/len(df_) * 100,2)).sort_values(ascending=False)\n",
    " ## Rows with more than 5 missing values\n",
    " #.isnull().sum(axis=1) > 5\n",
    " #.apply(lambda df_:df_.isnull().sum() > 5) \n",
    " ## Removing nth columns with the highest missing values\n",
    " #.pipe(remove_nth_highest_missing_value, 3)\n",
    " ## filtering dataframe can also be done using filter, .loc, iloc, and query\n",
    " #.loc[:,lambda df_:df_.isnull().sum() < 5] \n",
    " ## Retaining rows with <=5 NAN values\n",
    " #.pipe(remove_rows_nth_nan, 5)\n",
    " ## Removing the rows where Price [and Landsize ]is missing [and sort by Landsize]\n",
    " #.loc[lambda df_:df_.Price.notnull()]\n",
    " #.dropna(subset=['Price', 'Landsize'])\n",
    " #.sort_values(by='Landsize', ascending=False)\n",
    " #.loc[:,['Lattitude', 'Longtitude']].sort_values(by='Lattitude')\n",
    " ## Imputing the values by Mean for Lattitude and Longitude\n",
    " #.assign(Longtitude=lambda df_:df_.Longtitude.fillna(df_['Longtitude'].mean()),\n",
    " #        Lattitude=lambda df_:df_.Lattitude.fillna(df_['Lattitude'].mean())\n",
    " #       )\n",
    " ## Grouping to further explore a feature\n",
    " .groupby('Car').Car.count().sort_values(ascending=False)\n",
    ")"
   ]
  },
  {
   "cell_type": "code",
   "execution_count": 111,
   "id": "b1e5c268",
   "metadata": {},
   "outputs": [],
   "source": [
    "def print_fn(*args, **kwargs):\n",
    "    print(args, kwargs)"
   ]
  },
  {
   "cell_type": "code",
   "execution_count": 112,
   "id": "7bb3b2e5",
   "metadata": {},
   "outputs": [
    {
     "name": "stdout",
     "output_type": "stream",
     "text": [
      "('Derrick', 'Njobuenwu') {'full': 'DerrickNjobuenwu, PhD'}\n"
     ]
    }
   ],
   "source": [
    "print_fn(name:='Derrick', last:='Njobuenwu', full=f'{name}{last}, PhD')"
   ]
  },
  {
   "cell_type": "code",
   "execution_count": null,
   "id": "9bf9b677",
   "metadata": {},
   "outputs": [],
   "source": []
  }
 ],
 "metadata": {
  "kernelspec": {
   "display_name": "venv310",
   "language": "python",
   "name": "venv310"
  },
  "language_info": {
   "codemirror_mode": {
    "name": "ipython",
    "version": 3
   },
   "file_extension": ".py",
   "mimetype": "text/x-python",
   "name": "python",
   "nbconvert_exporter": "python",
   "pygments_lexer": "ipython3",
   "version": "3.10.0"
  }
 },
 "nbformat": 4,
 "nbformat_minor": 5
}
