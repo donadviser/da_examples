{
 "cells": [
  {
   "cell_type": "code",
   "execution_count": 2,
   "id": "63e78b91",
   "metadata": {},
   "outputs": [],
   "source": [
    "import pandas as pd\n",
    "import seaborn as sns\n",
    "import matplotlib.pyplot as plt"
   ]
  },
  {
   "cell_type": "code",
   "execution_count": 7,
   "id": "9f0c479c",
   "metadata": {},
   "outputs": [],
   "source": [
    "url = \"https://github.com/mattharrison/datasets/raw/master/data/vehicles.csv.zip\""
   ]
  },
  {
   "cell_type": "code",
   "execution_count": 8,
   "id": "7a97695c",
   "metadata": {},
   "outputs": [
    {
     "name": "stderr",
     "output_type": "stream",
     "text": [
      "/var/folders/d8/m11cx23161lccrkqzwnp38_80000gn/T/ipykernel_14381/2372877960.py:1: DtypeWarning: Columns (68,70,71,72,73,74,76,79) have mixed types. Specify dtype option on import or set low_memory=False.\n",
      "  autos = pd.read_csv(url)\n"
     ]
    }
   ],
   "source": [
    "autos = pd.read_csv(url)"
   ]
  },
  {
   "cell_type": "code",
   "execution_count": 32,
   "id": "86c3813e",
   "metadata": {},
   "outputs": [],
   "source": [
    "makes = ['Tesla', 'Honda', 'Toyota', 'Ford', 'BMW']\n",
    "colors = ['#e3128b', '#26725e', '#b3b099', '#ff2727', '#1a1aff']"
   ]
  },
  {
   "cell_type": "code",
   "execution_count": 63,
   "id": "81ceced6",
   "metadata": {},
   "outputs": [
    {
     "data": {
      "image/png": "[encoded data removed]",
      "text/plain": [
       "<Figure size 432x288 with 1 Axes>"
      ]
     },
     "metadata": {
      "needs_background": "light"
     },
     "output_type": "display_data"
    }
   ],
   "source": [
    "ax =(autos\n",
    " .query('make.isin(@makes)')\n",
    " .groupby(['year', 'make'])\n",
    " .city08\n",
    " .mean()\n",
    " .unstack()\n",
    " .loc[:,makes]\n",
    " .plot(color=colors, legend=False, linewidth=3)\n",
    ")\n",
    "plt.rcParams[\"font.family\"] = \"Roboto\"\n",
    "plt.grid(axis='y')\n",
    "plt.suptitle('Annual City Mileage', ha='left', x=.15)\n",
    "[ax.spines[side].set_visible(False) for side in ['top', 'left', 'right']]\n",
    "#ax.yaxis.tick_right() #move to right - not needed i made my own labels\n",
    "ax.tick_params(left=False) #hide ticks\n",
    "ax.yaxis.set_label_coords(x=.05,\n",
    "                          y=0.5)\n",
    "ax.set_xlabel('')#clear x label\n",
    "ax.set_xticks(minor=True, ticks=range(1984, 2020))\n",
    "ax.set_xticks(ticks=range(1985, 2019, 5))\n",
    "ax.set_xticklabels(['1985', '90', '95', '2000', '05', '10', '15'])\n",
    "ax.set_yticks(ticks=range(0,121,20))\n",
    "ax.set_yticklabels([]) # hide mpl labels \n",
    "for label in range(20, 121, 20):  #my own vertically shifted y-labels\n",
    "    ax.text(2022, label+3, f'{label}',color=colors[-3], ha='right')\n",
    "    \n",
    "for label, pos, color in zip(makes, [(2015, 110), #label makes\n",
    "                                     (2010, 33),\n",
    "                                    (1986, 20.5),\n",
    "                                    (1995,10),\n",
    "                                    ], colors):\n",
    "    ax.text(*pos, label, color=color, ha='left')\n",
    "_ = ax.text(1982, -20, 'Source: fueleconomy.gov', ha='left')"
   ]
  },
  {
   "cell_type": "code",
   "execution_count": null,
   "id": "ddd02635",
   "metadata": {},
   "outputs": [],
   "source": []
  },
  {
   "cell_type": "code",
   "execution_count": null,
   "id": "9e8515d3",
   "metadata": {},
   "outputs": [],
   "source": []
  }
 ],
 "metadata": {
  "kernelspec": {
   "display_name": "venv310",
   "language": "python",
   "name": "venv310"
  },
  "language_info": {
   "codemirror_mode": {
    "name": "ipython",
    "version": 3
   },
   "file_extension": ".py",
   "mimetype": "text/x-python",
   "name": "python",
   "nbconvert_exporter": "python",
   "pygments_lexer": "ipython3",
   "version": "3.10.2"
  }
 },
 "nbformat": 4,
 "nbformat_minor": 5
}
